{
 "cells": [
  {
   "cell_type": "markdown",
   "id": "385e7e31-f00e-4c3d-93e1-d81f4c800ba8",
   "metadata": {},
   "source": [
    "# PUP UNIVERSITY INTRAMURALS: CCIS TEAM ANALYSIS"
   ]
  },
  {
   "cell_type": "markdown",
   "id": "d26c0a4d-3db1-4137-b711-4ae355e4de53",
   "metadata": {},
   "source": [
    "This is an analysis of all the student athletes in the College of Computer and Information Sciences that participated on the PUP University intramurals 2023. The CCIS only have 2 course, Bachelor of Science in Computer Science and Bachelor of Science in Information Technology. These analysis wants to answer these following questions: \n",
    "1. Which among the two courses are more active in terms of sports?\n",
    "2. How many students participated in each year level? is there a huge difference between the number of players in third and fourth year?\n",
    "3. What is the average physicality of the athletes? (Height, Weight, BMI)\n",
    "4. Is there certain month where a lot of athletes are born on and what is the spread of it?  a?\n"
   ]
  },
  {
   "cell_type": "markdown",
   "id": "a67361ac-6c5b-46eb-9528-a22e21f5c3f1",
   "metadata": {},
   "source": [
    "# Import and Merging "
   ]
  },
  {
   "cell_type": "markdown",
   "id": "458ec000-a474-43f7-802b-ea51ab30aa5e",
   "metadata": {},
   "source": [
    "Importing os, pandas and seaborn are all needed for analysis (you can also use matplotlib instead of seaborn but i highly suggest just use seaborn because why not) \n",
    "- os for the merging csv files\n",
    "- pandas for querying, manipulation and analysis of the data\n",
    "- seaborn for plotting and creating visual outputs"
   ]
  },
  {
   "cell_type": "code",
   "execution_count": 17,
   "id": "1a92a0ec-8833-42b5-8c44-af36afe4c5eb",
   "metadata": {},
   "outputs": [],
   "source": [
    "import os\n",
    "import pandas as pd\n",
    "import seaborn as sns\n",
    "import matplotlib.pyplot as plt\n",
    "\n",
    "ccis_df = pd.DataFrame()\n",
    "\n",
    "for file in os.listdir(os.getcwd()):\n",
    "    if file.endswith('.csv'):\n",
    "        ccis_df = ccis_df._append(pd.read_csv(file))\n",
    "\n",
    "ccis_df.to_csv('CCIS.csv', index = True)\n",
    "ccis_df = pd.read_csv(\"CCIS.csv\")"
   ]
  },
  {
   "cell_type": "markdown",
   "id": "efd7bcd4-2b7c-4266-aeaa-201db9c1ce08",
   "metadata": {},
   "source": [
    "Our first goal is know the number of players in each courses, and also their year level\n"
   ]
  },
  {
   "cell_type": "markdown",
   "id": "b997ae60-b2ce-4742-88b8-6031193c092b",
   "metadata": {},
   "source": [
    "1. Change the phrase \"Bachelor of Science in Computer Science\" to \"BSCS\" and \"Bachelor of Science in Information Technology\" to \"BSIT\""
   ]
  },
  {
   "cell_type": "code",
   "execution_count": null,
   "id": "f358639b-0c8b-4e45-b0b8-e01627a28bcc",
   "metadata": {},
   "outputs": [],
   "source": [
    "ccis_df['COURSE'] = ccis_df['COURSE'].replace({\"Bachelor of Science in Computer Science\": \"BSCS\"})\n",
    "ccis_df['COURSE'] = ccis_df['COURSE'].replace({\"Bachelor of Science in Information Technology\": \"BSIT\"})"
   ]
  },
  {
   "cell_type": "markdown",
   "id": "5ed7e1ee-cc28-4e23-af9b-42a2e2d7e78c",
   "metadata": {},
   "source": [
    "2. First lets count the number of BSCS students."
   ]
  },
  {
   "cell_type": "code",
   "execution_count": null,
   "id": "949a920f-e583-4ace-95b4-06032d46d186",
   "metadata": {},
   "outputs": [],
   "source": [
    "cs = ccis_df[ccis_df[\"COURSE\"] == \"BSCS\"]\n",
    "cs = cs[['COURSE', \"STUDENT NO\"]]\n",
    "\n",
    "cs_first_year = 0\n",
    "cs_second_year = 0\n",
    "cs_third_year = 0\n",
    "cs_fourt_year = 0\n",
    "\n",
    "for year in cs[\"STUDENT NO\"]:\n",
    "    if \"2023\" in year:\n",
    "           cs_first_year += 1\n",
    "    if \"2022\" in year:\n",
    "        cs_second_year += 1\n",
    "    if \"2021\" in year:\n",
    "        cs_third_year += 1\n",
    "    if \"2020\" in year:\n",
    "        cs_fourt_year += 1\n",
    "        \n",
    "print(\"\\nPlayers in the CS Course\")\n",
    "print(f\"The number of players from CS: {len(cs)}\")\n",
    "print(f\"number of first year(s):{cs_first_year}\")\n",
    "print(f\"number of second year(s):{cs_second_year}\")\n",
    "print(f\"number of third year(s):{cs_third_year}\")\n",
    "print(f\"number of fourth year(s):{cs_fourt_year}\")\n",
    "print(\" \")"
   ]
  },
  {
   "cell_type": "markdown",
   "id": "b55c3030-8dea-4473-8edf-4e690399473a",
   "metadata": {},
   "source": [
    "3. Now, lets do the same thing with BSIT student."
   ]
  },
  {
   "cell_type": "code",
   "execution_count": null,
   "id": "f1f96f38-c102-4bf6-86ae-c8adb1ab348f",
   "metadata": {},
   "outputs": [],
   "source": [
    "it = ccis_df[ccis_df[\"COURSE\"] == \"BSIT\"]\n",
    "it = it[['COURSE', \"STUDENT NO\"]]\n",
    "\n",
    "it_first_year = 0\n",
    "it_second_year = 0\n",
    "it_third_year = 0\n",
    "it_fourt_year = 0\n",
    "\n",
    "for year in it[\"STUDENT NO\"]:\n",
    "    if \"2023\" in year:\n",
    "        it_first_year += 1\n",
    "    if \"2022\" in year:\n",
    "        it_second_year += 1\n",
    "    if \"2021\" in year:\n",
    "        it_third_year += 1\n",
    "    if \"2020\" in year:\n",
    "        it_fourt_year += 1\n",
    "        \n",
    "print(f\"The number of players from IT: {len(it)}\")\n",
    "print(\"Players in the IT Course\")\n",
    "print(f\"number of first year(s):{it_first_year}\")\n",
    "print(f\"number of second year(s):{it_second_year}\")\n",
    "print(f\"number of third year(s):{it_third_year}\")\n",
    "print(f\"number of fourth year(s):{it_fourt_year}\")"
   ]
  },
  {
   "cell_type": "markdown",
   "id": "47720144-c6e4-47b9-9c93-f93284dd3ded",
   "metadata": {},
   "source": [
    "4. Now let's identify by their year level. The given dataset had \"STUDENT NO\" in it, and the first four digits of it indicates the year they started college in PUP (afaik, you cannot transfer to pup in 2nd-4th year or if yes, im not sure on the format of their student no). The current SY for this dataset is 2023-2024 so we should expect that every student that has 2023 in their student number are first year, students that have 2022 are second years, 2021 are third years, and lastly those who have 2020 are the seniors or fourth year."
   ]
  },
  {
   "cell_type": "code",
   "execution_count": null,
   "id": "bf04b97e-e0fe-44ef-8089-70237903b731",
   "metadata": {},
   "outputs": [],
   "source": [
    "year = ccis_df['STUDENT NO']\n",
    "year_level = []\n",
    "for year in ccis_df[\"STUDENT NO\"]:\n",
    "    if \"2023\" in year:\n",
    "        year_stud = 1\n",
    "        year_level.append(year_stud)\n",
    "    if \"2022\" in year:\n",
    "        year_stud = 2\n",
    "        year_level.append(year_stud)\n",
    "    if \"2021\" in year:\n",
    "        year_stud = 3\n",
    "        year_level.append(year_stud)\n",
    "    if \"2020\" in year:\n",
    "        year_stud = 4\n",
    "        year_level.append(year_stud)\n",
    "\n",
    "ccis_df['YEAR LEVEL'] = year_level\n",
    "print(ccis_df.head())"
   ]
  },
  {
   "cell_type": "markdown",
   "id": "8fd88693-743e-4fe5-9814-a915aab22de0",
   "metadata": {},
   "source": [
    "5. After that, we can now find the average physicality of all students who will participate in the intramurals. Good thing the 'HEIGHT' and 'WEIGHT' are already provided. With these we can now just solve for their BMI. The formula for this is weight/(height in meters)^2. As you can see in the dataset the height is in centimeter. So we need to convert it to meters and in order to do that, we just need to divide it by 100. "
   ]
  },
  {
   "cell_type": "code",
   "execution_count": null,
   "id": "052bb416-2bf1-4a8d-9df8-18a6acd2951e",
   "metadata": {},
   "outputs": [],
   "source": [
    "# def bmi(ccis_df):\n",
    "height = ccis_df['HEIGHT']\n",
    "weight = ccis_df['WEIGHT']\n",
    "BMI = []\n",
    "for i in range(len(ccis_df)):\n",
    "    meters = height[i]/100\n",
    "    bmi = weight[i]/(meters*meters)\n",
    "    answer = round(bmi,2)\n",
    "    BMI.append(answer)\n",
    "\n",
    "ccis_df['BMI'] = BMI\n",
    "print(ccis_df.head())\n",
    "        \n",
    "# bmi(ccis_df)"
   ]
  },
  {
   "cell_type": "markdown",
   "id": "4555f7a1-ac79-47b4-aead-1fd0bd82c3ec",
   "metadata": {},
   "source": [
    "6. This is optional but still a good thing to know. Upon reading the dataset the first thing I noticed are the birthdays and i was like can the computer sort this kind of value? then upon researching i stumbled upo the datetime function where it converts the date format in a universal format that the computer can read."
   ]
  },
  {
   "cell_type": "code",
   "execution_count": null,
   "id": "d5c602a3-5902-4990-acc5-8f12622155bf",
   "metadata": {},
   "outputs": [],
   "source": [
    "ccis_df[\"BIRTHDATE\"] = pd.to_datetime(ccis_df['BIRTHDATE'])\n",
    "bday = ccis_df['BIRTHDATE']\n",
    "ccis_df.update(bday)\n",
    "print(ccis_df.sort_values('BIRTHDATE').head())"
   ]
  },
  {
   "cell_type": "markdown",
   "id": "a74858cd-656d-4471-ada7-11418d81b27d",
   "metadata": {},
   "source": [
    "7. After converting the 'BIRTHDATE' to the universal format, we can now easily count how many players have the same birthmonth. And from this we can see, if there is a month that is shared by a lot of participants."
   ]
  },
  {
   "cell_type": "code",
   "execution_count": null,
   "id": "252c83d9-0a59-41fc-8700-220189b88834",
   "metadata": {},
   "outputs": [],
   "source": [
    "date = pd.DatetimeIndex(ccis_df['BIRTHDATE'])\n",
    "ccis_df['MONTH'] = date.month\n",
    "months = ccis_df['MONTH']\n",
    "jan = 0\n",
    "feb = 0\n",
    "march = 0\n",
    "apr = 0\n",
    "may = 0\n",
    "june = 0\n",
    "july = 0\n",
    "aug= 0\n",
    "sep = 0\n",
    "oct = 0\n",
    "nov = 0\n",
    "dec = 0\n",
    "for i in months:\n",
    "    if i == 1:\n",
    "        jan += 1\n",
    "    if i == 2:\n",
    "        feb += 1\n",
    "    if i == 3:\n",
    "        march += 1\n",
    "    if i == 4:\n",
    "        apr += 1\n",
    "    if i == 5:\n",
    "        may += 1\n",
    "    if i == 6:\n",
    "        june += 1\n",
    "    if i == 7:\n",
    "        july += 1\n",
    "    if i == 8:\n",
    "        aug += 1\n",
    "    if i == 9:\n",
    "        sep += 1\n",
    "    if i == 10:\n",
    "        oct += 1\n",
    "    if i == 11:\n",
    "        nov += 1\n",
    "    if i == 12:\n",
    "        dec += 1\n",
    "print(f'jan: {jan}')\n",
    "print(f'feb: {feb}')\n",
    "print(f'march: {march}')\n",
    "print(f'apr: {apr}')\n",
    "print(f'may: {may}')\n",
    "print(f'june: {june}')\n",
    "print(f'july: {july}')\n",
    "print(f'aug: {aug}')\n",
    "print(f'sep: {sep}')\n",
    "print(f'oct: {oct}')\n",
    "print(f'nov: {nov}')\n",
    "print(f'dec: {dec}')\n",
    "sns.countplot(x = 'MONTH', data=ccis_df)"
   ]
  },
  {
   "cell_type": "markdown",
   "id": "1702c4a1-7bd8-4387-811a-40cfb8a72b8b",
   "metadata": {},
   "source": [
    "8. Now, lets know the average physicality of all the participants. First we need to get the column of 'AGE', 'HEIGHT','BMI', and 'WEIGHT'. After we will now loop through it and find its average."
   ]
  },
  {
   "cell_type": "code",
   "execution_count": 136,
   "id": "2d407a98-7e7c-4700-b4c7-965d52e24b8d",
   "metadata": {},
   "outputs": [
    {
     "name": "stdout",
     "output_type": "stream",
     "text": [
      "20.24\n"
     ]
    }
   ],
   "source": [
    "age = ccis_df['AGE']\n",
    "age_total = 0\n",
    "for i in age:\n",
    "    age_total += i\n",
    "\n",
    "age_avg = age_total/(len(age))\n",
    "age_avg = round(age_avg, 2)\n",
    "print(f\"The average age of all participants are: {age_avg}\")\n",
    "    "
   ]
  },
  {
   "cell_type": "code",
   "execution_count": 138,
   "id": "6441c674-3d07-422b-be13-107764054fe7",
   "metadata": {},
   "outputs": [
    {
     "name": "stdout",
     "output_type": "stream",
     "text": [
      "The average height of all participants are: 166.65\n"
     ]
    }
   ],
   "source": [
    "height = ccis_df['HEIGHT']\n",
    "height_total = 0\n",
    "for i in height:\n",
    "    height_total += i\n",
    "\n",
    "height_avg = height_total/(len(age))\n",
    "height_avg = round(height_avg, 2)\n",
    "print(f\"The average height of all participants are: {height_avg} cm\")\n",
    "    "
   ]
  },
  {
   "cell_type": "code",
   "execution_count": 140,
   "id": "52265a60-acd9-4f5f-a10d-56da1d0fbb35",
   "metadata": {},
   "outputs": [
    {
     "name": "stdout",
     "output_type": "stream",
     "text": [
      "The average weight of all participants are: 61.81 kg\n"
     ]
    }
   ],
   "source": [
    "weight = ccis_df['WEIGHT']\n",
    "weight_total = 0\n",
    "for i in weight:\n",
    "    weight_total += i\n",
    "\n",
    "weight_avg = weight_total/(len(age))\n",
    "weight_avg = round(weight_avg, 2)\n",
    "print(f\"The average weight of all participants are: {weight_avg} kg\")"
   ]
  },
  {
   "cell_type": "code",
   "execution_count": 144,
   "id": "5702361c-713f-4a6d-aec4-c8737cd44415",
   "metadata": {},
   "outputs": [
    {
     "name": "stdout",
     "output_type": "stream",
     "text": [
      "The average weight of all participants are: 22.28 \n"
     ]
    }
   ],
   "source": [
    "BMI = ccis_df['BMI']\n",
    "BMI_total = 0\n",
    "for i in BMI:\n",
    "    BMI_total += i\n",
    "\n",
    "BMI_avg = BMI_total/(len(age))\n",
    "BMI_avg = round(BMI_avg, 2)\n",
    "print(f\"The average weight of all participants are: {BMI_avg} \")"
   ]
  },
  {
   "cell_type": "markdown",
   "id": "c558c3b8-af71-4771-b392-b8f8d5ff04fa",
   "metadata": {},
   "source": [
    "# Now its plotting time!"
   ]
  },
  {
   "cell_type": "markdown",
   "id": "0c5d52bc-4cef-4606-a639-f88f43f0d1aa",
   "metadata": {},
   "source": [
    "With these plot we can clearly see and say that there are more BSIT students then BSCS students that participated in PUP Intramurals. 28 students are from BSIT and 18 students are from BSCS. So  i will say that during this year, BSIT students are more physically active than BSCS students"
   ]
  },
  {
   "cell_type": "code",
   "execution_count": 141,
   "id": "1c2465e6-bb6f-41fa-a418-6bb8c979d583",
   "metadata": {},
   "outputs": [
    {
     "data": {
      "text/plain": [
       "<Axes: xlabel='COURSE', ylabel='count'>"
      ]
     },
     "execution_count": 141,
     "metadata": {},
     "output_type": "execute_result"
    },
    {
     "data": {
      "image/png": "[encoded data removed]",
      "text/plain": [
       "<Figure size 640x480 with 1 Axes>"
      ]
     },
     "metadata": {},
     "output_type": "display_data"
    }
   ],
   "source": [
    "sns.countplot(x = \"COURSE\", data=ccis_df)"
   ]
  },
  {
   "cell_type": "markdown",
   "id": "58b7cf59-5846-4c30-8bb5-523e79a5ecd3",
   "metadata": {},
   "source": [
    "The plot below shows the distribution of particapants in each year level and courses. Both significant value here are both BSIT, you can see that there is only one first year student participated during the event and the largest group in both per Course and in total are 2nd year students."
   ]
  },
  {
   "cell_type": "code",
   "execution_count": 142,
   "id": "802cd7de-f05f-4668-b983-552e0882cbe0",
   "metadata": {},
   "outputs": [
    {
     "data": {
      "text/plain": [
       "<Axes: xlabel='YEAR LEVEL', ylabel='count'>"
      ]
     },
     "execution_count": 142,
     "metadata": {},
     "output_type": "execute_result"
    },
    {
     "data": {
      "image/png": "[encoded data removed]",
      "text/plain": [
       "<Figure size 640x480 with 1 Axes>"
      ]
     },
     "metadata": {},
     "output_type": "display_data"
    }
   ],
   "source": [
    "sns.countplot(x = \"YEAR LEVEL\", hue = 'COURSE', data=ccis_df)"
   ]
  },
  {
   "cell_type": "markdown",
   "id": "dc64dad8-2e06-41cb-8625-3ca440b2d448",
   "metadata": {},
   "source": [
    "The plot below shpw the BMI of all participants in each year levels and courses. It is kinda visible that there are now major difference between the BMI's of students in each year level (yes, the first year student kinda have a low score in BMI but we cannot conclude that first year students are near from being underweight)."
   ]
  },
  {
   "cell_type": "code",
   "execution_count": 143,
   "id": "01e313f3-b168-4d17-b61b-99d47fff7bce",
   "metadata": {
    "scrolled": true
   },
   "outputs": [
    {
     "data": {
      "text/plain": [
       "<Axes: xlabel='YEAR LEVEL', ylabel='BMI'>"
      ]
     },
     "execution_count": 143,
     "metadata": {},
     "output_type": "execute_result"
    },
    {
     "data": {
      "image/png": "[encoded data removed]",
      "text/plain": [
       "<Figure size 640x480 with 1 Axes>"
      ]
     },
     "metadata": {},
     "output_type": "display_data"
    }
   ],
   "source": [
    "sns.barplot(data = ccis_df, y = 'BMI', x = 'YEAR LEVEL', hue = 'COURSE')"
   ]
  },
  {
   "cell_type": "code",
   "execution_count": 145,
   "id": "53233fe0-5a68-4677-aaa3-0157b1dd50b6",
   "metadata": {},
   "outputs": [
    {
     "data": {
      "text/plain": [
       "<Axes: xlabel='YEAR LEVEL', ylabel='BMI'>"
      ]
     },
     "execution_count": 145,
     "metadata": {},
     "output_type": "execute_result"
    },
    {
     "data": {
      "image/png": "[encoded data removed]",
      "text/plain": [
       "<Figure size 640x480 with 1 Axes>"
      ]
     },
     "metadata": {},
     "output_type": "display_data"
    }
   ],
   "source": [
    "sns.barplot(data = ccis_df, y = 'BMI', x = 'YEAR LEVEL')"
   ]
  },
  {
   "cell_type": "markdown",
   "id": "bb1f22cb-c5e7-419f-8d2e-7f0f38378910",
   "metadata": {},
   "source": [
    "This last plot shows the count on the months the participants are born on. We can see that the is no significan year that standout so much aside the there are 7 participants are born on June, But still not enough to say that birthmonths affects the physicality of a person."
   ]
  },
  {
   "cell_type": "code",
   "execution_count": 147,
   "id": "57cae4b7-f798-4a05-a2c2-e329788f67e1",
   "metadata": {},
   "outputs": [
    {
     "data": {
      "text/plain": [
       "<Axes: xlabel='MONTH', ylabel='count'>"
      ]
     },
     "execution_count": 147,
     "metadata": {},
     "output_type": "execute_result"
    },
    {
     "data": {
      "image/png": "[encoded data removed]",
      "text/plain": [
       "<Figure size 640x480 with 1 Axes>"
      ]
     },
     "metadata": {},
     "output_type": "display_data"
    }
   ],
   "source": [
    "sns.countplot(data = ccis_df, x = 'MONTH')"
   ]
  },
  {
   "cell_type": "code",
   "execution_count": null,
   "id": "9296dd1a-77c6-444f-9b30-fc1f13424e04",
   "metadata": {},
   "outputs": [],
   "source": []
  }
 ],
 "metadata": {
  "kernelspec": {
   "display_name": "Python 3 (ipykernel)",
   "language": "python",
   "name": "python3"
  },
  "language_info": {
   "codemirror_mode": {
    "name": "ipython",
    "version": 3
   },
   "file_extension": ".py",
   "mimetype": "text/x-python",
   "name": "python",
   "nbconvert_exporter": "python",
   "pygments_lexer": "ipython3",
   "version": "3.11.3"
  }
 },
 "nbformat": 4,
 "nbformat_minor": 5
}
